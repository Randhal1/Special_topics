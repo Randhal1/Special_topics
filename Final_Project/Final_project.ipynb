{
 "cells": [
  {
   "cell_type": "code",
   "execution_count": null,
   "metadata": {},
   "outputs": [],
   "source": [
    "#!../xptopics/bin/python\n",
    "# import the libraries\n",
    "import numpy as np\n",
    "import matplotlib.pyplot as plt\n",
    "\n",
    "# import the class MLP which is inherited from torch.nn.module. \n",
    "# this function is defined in another file.\n",
    "from MLP_module import MLP, train_model, plotter"
   ]
  },
  {
   "cell_type": "code",
   "execution_count": null,
   "metadata": {},
   "outputs": [],
   "source": [
    "# Create the set of parameters\n",
    "# Start working on 5.8.3\n",
    "\n",
    "# Set the hyperparameters\n",
    "hparams_5_8_1 = {\n",
    "    'input_dim': 1, \n",
    "    'out_dim': 1, \n",
    "    'width': 18,\n",
    "    'depth': 6,\n",
    "    'activation': 'tanh',\n",
    "    'initialization': 'normal'\n",
    "}\n",
    "\n",
    "# Set the parameters for the model\n",
    "params_5_8_3 = {\n",
    "    'Pe': [0.01, 20, 0.01, 15], #Pe values\n",
    "    'Da': [0.01, 0.01, 60, 40], #Da values\n",
    "    'lambda_b': 10, \n",
    "    'l2_lambda': 1e-7,\n",
    "    'eta': 1e-4, # learning rate\n",
    "    'num_epochs': 40000,    # number of epochs\n",
    "}\n",
    "\n",
    "# Get the data for control \n",
    "data_control = {'pe01da01': pd.read_csv('Datasets/Pe_0.01_Da_0.01.txt'),\n",
    "                'pe01da60': pd.read_csv('Datasets/Pe_0.01_Da_60.txt'),\n",
    "                'pe20da01': pd.read_csv('Datasets/Pe_20_Da_0.01.txt'),\n",
    "                'pe15da40': pd.read_csv('Datasets/Pe_15_Da_40.txt')}"
   ]
  }
 ],
 "metadata": {
  "kernelspec": {
   "display_name": "xptopics",
   "language": "python",
   "name": "python3"
  },
  "language_info": {
   "codemirror_mode": {
    "name": "ipython",
    "version": 3
   },
   "file_extension": ".py",
   "mimetype": "text/x-python",
   "name": "python",
   "nbconvert_exporter": "python",
   "pygments_lexer": "ipython3",
   "version": "3.12.10"
  }
 },
 "nbformat": 4,
 "nbformat_minor": 2
}
